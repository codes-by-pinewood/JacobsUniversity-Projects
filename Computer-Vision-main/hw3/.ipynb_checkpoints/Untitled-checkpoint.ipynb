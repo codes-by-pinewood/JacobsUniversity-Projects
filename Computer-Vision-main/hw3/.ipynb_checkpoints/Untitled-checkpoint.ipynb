{
 "cells": [
  {
   "cell_type": "code",
   "execution_count": null,
   "id": "b5ea25b7",
   "metadata": {},
   "outputs": [],
   "source": [
    "import cv2\n",
    "import matplotlib.pyplot as plt\n",
    "import numpy as np\n",
    "import glob\n",
    "\n",
    "def auto_segment(image):\n",
    "    pixel_vals = image.reshape((-1,3))\n",
    " \n",
    "    # Convert to float type\n",
    "    pixel_vals = np.float32(pixel_vals)\n",
    "    criteria = (cv2.TERM_CRITERIA_EPS + cv2.TERM_CRITERIA_MAX_ITER, 100, 0.85)\n",
    " \n",
    "    # then perform k-means clustering wit h number of clusters defined as 3\n",
    "    #also random centres are initially choosed for k-means clustering\n",
    "    k = 3\n",
    "    retval, labels, centers = cv2.kmeans(pixel_vals, k, None, criteria, 10, cv2.KMEANS_RANDOM_CENTERS)\n",
    " \n",
    "    # convert data into 8-bit values\n",
    "    centers = np.uint8(centers)\n",
    "    segmented_data = centers[labels.flatten()]\n",
    " \n",
    "    # reshape data into the original image dimensions\n",
    "    segmented_image = segmented_data.reshape((image.shape))\n",
    " \n",
    "    return segmented_image\n",
    "\n",
    "\n",
    "# Read in each image and convert to grayscale\n",
    "images = [cv2.imread(file,0) for file in glob.glob(\"images/*.jpg\")]\n",
    "\n",
    "# Iterate through each image, perform edge detection, and save image\n",
    "number = 0\n",
    "for image in images:\n",
    "    segment = auto_segment(image)\n",
    "    cv2.imwrite('result/segment_{}.png'.format(number), segment)\n",
    "    number += 1"
   ]
  },
  {
   "cell_type": "code",
   "execution_count": null,
   "id": "41b6b45f",
   "metadata": {},
   "outputs": [],
   "source": []
  }
 ],
 "metadata": {
  "kernelspec": {
   "display_name": "Python 3 (ipykernel)",
   "language": "python",
   "name": "python3"
  },
  "language_info": {
   "codemirror_mode": {
    "name": "ipython",
    "version": 3
   },
   "file_extension": ".py",
   "mimetype": "text/x-python",
   "name": "python",
   "nbconvert_exporter": "python",
   "pygments_lexer": "ipython3",
   "version": "3.9.7"
  }
 },
 "nbformat": 4,
 "nbformat_minor": 5
}
